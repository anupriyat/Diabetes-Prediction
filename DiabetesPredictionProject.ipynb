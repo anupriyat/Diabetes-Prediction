{
 "cells": [
  {
   "cell_type": "code",
   "execution_count": null,
   "metadata": {},
   "outputs": [],
   "source": [
    "# Import libraries\n",
    "import numpy as np\n",
    "import pandas as pd\n",
    "from collections import defaultdict\n",
    "import matplotlib\n",
    "import matplotlib.pyplot as plt\n",
    "import os\n",
    "import re\n",
    "import scipy.stats as scs\n",
    "from scipy import spatial\n",
    "import sklearn\n",
    "from sklearn.metrics import *\n",
    "from sklearn.linear_model import LogisticRegression\n",
    "from sklearn.neighbors import KNeighborsClassifier\n",
    "from sklearn.naive_bayes import GaussianNB\n",
    "from sklearn.svm import SVC\n",
    "from sklearn.tree import DecisionTreeClassifier\n",
    "from sklearn.ensemble import RandomForestClassifier\n",
    "from sklearn.metrics import accuracy_score\n",
    "from sklearn.cross_validation import cross_val_score\n",
    "from sklearn.cross_validation import train_test_split\n",
    "from patsy import dmatrices\n",
    "import seaborn as sns"
   ]
  },
  {
   "cell_type": "markdown",
   "metadata": {},
   "source": [
    "**Import Files**"
   ]
  },
  {
   "cell_type": "code",
   "execution_count": 357,
   "metadata": {},
   "outputs": [],
   "source": [
    "missing_values = [\"n/a\", \"na\", \"--\", \"NA\", \"null\"]"
   ]
  },
  {
   "cell_type": "code",
   "execution_count": null,
   "metadata": {},
   "outputs": [],
   "source": [
    "df_SyncPatient = pd.read_csv('datasetPracticeFusionDiabetes/training_SyncPatient.csv', \n",
    "                             skipinitialspace=True, na_values = missing_values)\n",
    "#df_SyncPatient.head(5)"
   ]
  },
  {
   "cell_type": "code",
   "execution_count": 359,
   "metadata": {},
   "outputs": [],
   "source": [
    "#os.chdir('datasetPracticeFusionDiabetes/')\n",
    "diagnosisT = pd.read_csv('training_SyncDiagnosis.csv')\n",
    "allergyT = pd.read_csv('training_SyncAllergy.csv')\n",
    "immunT = pd.read_csv('training_SyncImmunization.csv')\n",
    "labObsT = pd.read_csv('training_SyncLabObservation.csv')\n",
    "labPanT = pd.read_csv('training_SyncLabPanel.csv')\n",
    "labResT = pd.read_csv('training_SyncLabResult.csv')\n",
    "medicationT = pd.read_csv('training_SyncMedication.csv')\n",
    "patientT = pd.read_csv('training_SyncPatient.csv')\n",
    "patientCondT = pd.read_csv('training_SyncPatientCondition.csv')\n",
    "smokingT = pd.read_csv('training_SyncPatientSmokingStatus.csv')\n",
    "prescripT = pd.read_csv('training_SyncPrescription.csv')\n",
    "trnscrpT = pd.read_csv('training_SyncTranscript.csv')\n",
    "trnscrpAT = pd.read_csv('training_SyncTranscriptAllergy.csv')\n",
    "trnscrpDT = pd.read_csv('training_SyncTranscriptDiagnosis.csv')\n",
    "trnscrptMT = pd.read_csv('training_SyncTranscriptMedication.csv')\n",
    "#myfileT = pd.read_csv('myfile.csv', header=None)\n",
    "conditionT = pd.read_csv('SyncCondition.csv')\n",
    "smokingT = pd.read_csv('SyncSmokingStatus.csv')"
   ]
  },
  {
   "cell_type": "code",
   "execution_count": 360,
   "metadata": {},
   "outputs": [],
   "source": [
    "def makeBP():\n",
    "    bloodpressure1 = trnscrpT.groupby(['PatientGuid'])[['SystolicBP', 'DiastolicBP']].mean()\n",
    "    bloodpressure2 = trnscrpT.groupby(['PatientGuid'])[['SystolicBP', 'DiastolicBP']].max()\n",
    "    bloodpressure3 = trnscrpT.groupby(['PatientGuid'])[['SystolicBP', 'DiastolicBP']].min()\n",
    "    bloodpressure = pd.concat([bloodpressure1, bloodpressure2, bloodpressure3], axis = 1)\n",
    "    bloodpressure.columns = ['meanSystolicBP', 'meanDiastolicBP', 'maxSystolicBP', 'maxDiastolicBP', 'minSystolicBP', 'minDiastolicBP']\n",
    "    bloodpressure['SystDiff'] = np.abs(bloodpressure['maxSystolicBP'] - bloodpressure['minSystolicBP'])\n",
    "    bloodpressure['DiastDiff'] = np.abs(bloodpressure['maxDiastolicBP'] - bloodpressure['minDiastolicBP'])\n",
    "    bloodpressure['isElevated'] = 0\n",
    "    bloodpressure['isStage1HBP'] = 0\n",
    "    bloodpressure['isStage2HBP'] = 0\n",
    "    bloodpressure['isHBPCrisis'] = 0\n",
    "    bloodpressure.loc[((bloodpressure['meanSystolicBP'] >= 120) & (bloodpressure['meanSystolicBP'] < 130)) & (bloodpressure['meanDiastolicBP'] < 80), 'isElevated'] = 1\n",
    "    bloodpressure.loc[((bloodpressure['meanSystolicBP'] >= 130) & (bloodpressure['meanSystolicBP'] < 140)) | ((bloodpressure['meanDiastolicBP'] >= 80) & (bloodpressure['meanDiastolicBP'] < 90)), 'isStage1HBP'] = 1\n",
    "    bloodpressure.loc[((bloodpressure['meanSystolicBP'] >= 140) & (bloodpressure['meanSystolicBP'] < 180)) | ((bloodpressure['meanDiastolicBP'] >= 90) & (bloodpressure['meanDiastolicBP'] < 120)), 'isStage2HBP'] = 1\n",
    "    bloodpressure.loc[(bloodpressure['meanSystolicBP'] >= 180) | (bloodpressure['meanDiastolicBP'] >= 120), 'isHBPCrisis'] = 1\n",
    "    bloodpressure.loc[bloodpressure['isHBPCrisis'] == 1, 'isStage2HBP'] = 0\n",
    "    bloodpressure.loc[bloodpressure['isStage2HBP'] == 1, 'isStage1HBP'] = 0\n",
    "    bloodpressure.loc[bloodpressure['isStage1HBP'] == 1, 'isElevated'] = 0\n",
    "    bloodpressure = bloodpressure.reset_index()\n",
    "    return bloodpressure"
   ]
  },
  {
   "cell_type": "code",
   "execution_count": 361,
   "metadata": {},
   "outputs": [],
   "source": [
    "def makeBMI():\n",
    "    trnscrpT['BMI'] = trnscrpT['BMI'].replace(0.000, np.nan)\n",
    "    bmi1 = trnscrpT.groupby(['PatientGuid'])['BMI'].mean()\n",
    "    bmi2 = trnscrpT.groupby(['PatientGuid'])['BMI'].max()\n",
    "    bmi3 = trnscrpT.groupby(['PatientGuid'])['BMI'].min()\n",
    "    bmi = pd.concat([bmi1, bmi2, bmi3], axis = 1)\n",
    "    bmi.columns = ['MeanBMI', 'MaxBMI', 'MinBMI']\n",
    "    bmi['isOverweight'] = 0\n",
    "    bmi['isObese'] = 0\n",
    "    bmi.loc[(bmi['MeanBMI'] >= 25) & (bmi['MeanBMI'] < 30), 'isOverweight'] = 1\n",
    "    bmi.loc[bmi['MeanBMI'] >= 30, 'isObese'] = 1\n",
    "    bmi.loc[bmi['MeanBMI'] < 19, 'isUnderWeight'] = 1\n",
    "    bmi['BMIDiff'] = np.abs(bmi['MaxBMI'] - bmi['MinBMI'])\n",
    "    bmi = bmi.reset_index()\n",
    "    return bmi"
   ]
  },
  {
   "cell_type": "code",
   "execution_count": 362,
   "metadata": {},
   "outputs": [],
   "source": [
    "def makeConditions():\n",
    "    diaganalysis = pd.merge(patientT, diagnosisT, on=['PatientGuid'])\n",
    "    chidata = diaganalysis[['PatientGuid', 'DMIndicator', 'ICD9Code']].drop_duplicates()\n",
    "    chidata.index = chidata['PatientGuid']\n",
    "    dummies = pd.get_dummies(chidata['ICD9Code']).reset_index()\n",
    "    dummies = dummies.groupby(['PatientGuid'])[dummies.columns[1:]].sum()\n",
    "    # dummies = dummies.replace(2, 1)\n",
    "    chidata = chidata[['PatientGuid', 'DMIndicator']]\n",
    "    chidata = chidata.drop_duplicates()\n",
    "    chidata = pd.concat([chidata, dummies], axis=1)\n",
    "    chidata['DMIndicator'] = chidata['DMIndicator'].astype(float)\n",
    "    return chidata"
   ]
  },
  {
   "cell_type": "code",
   "execution_count": 363,
   "metadata": {},
   "outputs": [],
   "source": [
    "def heartDisease(text):\n",
    "    if bool(re.match('41[0-4]|42[0-5]|427|429|74[5-6]', text)) == True:\n",
    "        return 1\n",
    "    return 0\n",
    "def CAD(text):\n",
    "    if bool(re.match('41[0-4]|429', text)) == True:\n",
    "        return 1\n",
    "    return 0\n",
    "def cardiomyopathy(text):\n",
    "    if bool(re.match('42[0-5]', text)) == True:\n",
    "        return 1\n",
    "    return 0\n",
    "def CHF(text):\n",
    "    if bool(re.match('426', text)) == True:\n",
    "        return 1\n",
    "    return 0\n",
    "def arrhythmias(text):\n",
    "    if bool(re.match('427', text)) == True:\n",
    "        return 1\n",
    "    return 0\n",
    "def heartdefects(text):\n",
    "    if bool(re.match('74[5-6]', text)) == True:\n",
    "        return 1\n",
    "    return 0\n",
    "def stroke(text):\n",
    "    if bool(re.match('43[0-1]|43[3-6]|997.02', text)) == True:\n",
    "        return 1\n",
    "    return 0\n",
    "def sleepApnea(text):\n",
    "    if bool(re.match('727.23|780.57', text)) == True:\n",
    "        return 1\n",
    "    return 0\n",
    "def gestDiab(text):\n",
    "    if bool(re.match('648.8', text)) == True:\n",
    "        return 1\n",
    "    return 0\n",
    "def polyOvary(text):\n",
    "    if bool(re.match('256.4', text)) == True:\n",
    "        return 1\n",
    "    return 0\n",
    "def frozenShoulder(text):\n",
    "    if bool(re.match('726.0', text)) == True:\n",
    "        return 1\n",
    "    return 0\n",
    "def hemochr(text):\n",
    "    if bool(re.match('275.03', text)) == True:\n",
    "        return 1\n",
    "    return 0\n",
    "def hepatitis(text):\n",
    "    if bool(re.match('070.2|070.3', text)) == True:\n",
    "        return 1\n",
    "    return 0\n",
    "def diabCompl(text):\n",
    "    if bool(re.match('250.[1-3]|250.5|250.8|251.[0-2]|270.3|775.6|962.3', text)) == True:\n",
    "        return 1\n",
    "    return 0\n",
    "def kidneyFailure(text):\n",
    "    if bool(re.match('58[4-5]', text)) == True:\n",
    "        return 1\n",
    "    return 0\n",
    "def dementia(text):\n",
    "    if bool(re.match('331|290|294|797', text)) == True:\n",
    "        return 1\n",
    "    return 0\n",
    "def acanthosis(text):\n",
    "    if bool(re.match('701.2', text)) == True:\n",
    "        return 1\n",
    "    return 0\n",
    "def blindness(text):\n",
    "    if bool(re.match('369', text)) == True:\n",
    "        return 1\n",
    "    return 0\n",
    "def sDysfunction(text):\n",
    "    if bool(re.match('302.7', text)) == True:\n",
    "        return 1\n",
    "    return 0\n",
    "def preDiabetes(text):\n",
    "    if bool(re.match('790.29', text)) == True:\n",
    "        return 1\n",
    "    return 0"
   ]
  },
  {
   "cell_type": "code",
   "execution_count": 364,
   "metadata": {},
   "outputs": [],
   "source": [
    "# remove the fractional part (remove Period)\n",
    "def stripPeriods(text):\n",
    "    result = re.sub('\\.', \"\", text)\n",
    "    return result"
   ]
  },
  {
   "cell_type": "code",
   "execution_count": 365,
   "metadata": {},
   "outputs": [],
   "source": [
    "def makeSpecials():\n",
    "    data = diagnosisT.copy()\n",
    "    data['ICD9'] = data['ICD9Code'].apply(stripPeriods)\n",
    "    data['hasHeartDisease'] = data['ICD9Code'].apply(heartDisease)\n",
    "    data['hasCAD'] = data['ICD9Code'].apply(CAD)\n",
    "    data['hasCardiomyo'] = data['ICD9Code'].apply(cardiomyopathy)\n",
    "    data['hasArrhy'] = data['ICD9Code'].apply(arrhythmias)\n",
    "    data['hasHeartDefects'] = data['ICD9Code'].apply(heartdefects)\n",
    "    data['hasCHF'] = data['ICD9Code'].apply(CHF)\n",
    "    data['hasStroke'] = data['ICD9Code'].apply(stroke)\n",
    "    data['hasSleepA'] = data['ICD9Code'].apply(sleepApnea)\n",
    "    data['hasGestDiab'] = data['ICD9Code'].apply(gestDiab)\n",
    "    data['hasPolyO'] = data['ICD9Code'].apply(polyOvary)\n",
    "    data['hasFrozenShoulder'] = data['ICD9Code'].apply(frozenShoulder)\n",
    "    data['hasHemoChr'] = data['ICD9Code'].apply(hemochr)\n",
    "    data['hasHepatitis'] = data['ICD9Code'].apply(hepatitis)\n",
    "    data['hasDiabComp'] = data['ICD9Code'].apply(diabCompl)\n",
    "    data['hasKidneyF'] = data['ICD9Code'].apply(kidneyFailure)\n",
    "    data['hasDementia'] = data['ICD9Code'].apply(dementia)\n",
    "    data['hasAcanthosis'] = data['ICD9Code'].apply(acanthosis)\n",
    "    data['hasBlindness'] = data['ICD9Code'].apply(blindness)\n",
    "    data['hasSDysf'] = data['ICD9Code'].apply(sDysfunction)\n",
    "    data['hasPreDiab'] = data['ICD9Code'].apply(preDiabetes)\n",
    "    diagnosisSummary = data.groupby(['PatientGuid'])[['hasHeartDisease', 'hasCHF', 'hasStroke', 'hasSleepA', 'hasGestDiab','hasPolyO', 'hasFrozenShoulder', 'hasHemoChr','hasHepatitis', 'hasDiabComp', 'hasKidneyF', 'hasDementia','hasAcanthosis', 'hasBlindness' ,'hasSDysf', 'hasPreDiab']].max()\n",
    "    diagnosisSummary = diagnosisSummary.reset_index()\n",
    "    return diagnosisSummary"
   ]
  },
  {
   "cell_type": "code",
   "execution_count": 366,
   "metadata": {},
   "outputs": [],
   "source": [
    "# https://en.wikipedia.org/wiki/List_of_ICD-9_codes\n",
    "\"\"\"\n",
    "        '140-239': 'neoplasms',\n",
    "        '240-279': 'endocrine, nutritional and metabolic, immunity disorders',\n",
    "        '280-289': 'diseases of the blood and blood-forming organs',\n",
    "        '290-319': 'mental disorders',\n",
    "        '320-359': 'nervous system',\n",
    "        '360-389': 'sense organs',\n",
    "        '390-459': 'circulatory system',\n",
    "        '460-519': 'respiratory system',\n",
    "        '520-579': 'digestive system',\n",
    "        '580-629': 'genitourinary system',\n",
    "        '630-679': 'complications of pregnancy, childbirth, and the puerperium',\n",
    "        '680-709': 'skin and subcutaneous tissue',\n",
    "        '710-739': 'musculoskeletal system and connective tissue',\n",
    "        '740-759': 'congenital anomalies',\n",
    "        '760-779': 'certain conditions originating in the perinatal period',\n",
    "        '780-799': 'symptoms, signs, and ill-defined conditions',\n",
    "        '800-999': 'injury and poisoning',\n",
    "        'E-V': 'external causes of injury and supplemental classification'\n",
    "\"\"\"\n",
    "            \n",
    "def ICD9Label(text):\n",
    "    if bool(re.match('14[0-9]|2[0-3][0-9]', text)) == True:\n",
    "        return 'neoplasms'\n",
    "    elif bool(re.match('2[4-7][0-9]', text)) == True:\n",
    "        return 'endoctrine'\n",
    "    elif bool(re.match('28[0-9]', text)) == True:\n",
    "        return 'blood'\n",
    "    elif bool(re.match('29[0-9]|3[0-1][0-9]', text)) == True:\n",
    "        return 'mental'\n",
    "    elif bool(re.match('3[2-5][0-9]', text)) == True:\n",
    "        return 'nervous'\n",
    "    elif bool(re.match('3[6-8][0-9]', text)) == True:\n",
    "        return 'sense'\n",
    "    elif bool(re.match('39[0-9]|4[0-5][0-9]', text)) == True:\n",
    "        return 'circulatory'\n",
    "    elif bool(re.match('4[6-9][0-9]|5[0-1][0-9]', text)) == True:\n",
    "        return 'respiratory'\n",
    "    elif bool(re.match('5[2-7][0-9]', text)) == True:\n",
    "        return 'digestive'\n",
    "    elif bool(re.match('5[8-9][0-9]|6[0-2][0-9]', text)) == True:\n",
    "        return 'genitourinary'\n",
    "    elif bool(re.match('6[3-7][0-9]', text)) == True:\n",
    "        return 'pregnancy'    \n",
    "    elif bool(re.match('6[8-9][0-9]|70[0-9]', text)) == True:\n",
    "        return 'skin'   \n",
    "    elif bool(re.match('7[1-3][0-9]', text)) == True:\n",
    "        return 'musculoskeletal'       \n",
    "    elif bool(re.match('7[4-5][0-9]', text)) == True:\n",
    "        return 'congenital' \n",
    "    elif bool(re.match('7[6-7][0-9]', text)) == True:\n",
    "        return 'perinatal' \n",
    "    elif bool(re.match('7[8-9][0-9]', text)) == True:\n",
    "        return 'symptoms or ill-defined' \n",
    "    elif bool(re.match('8[0-9][0-9]|9[0-9][0-9]', text)) == True:\n",
    "        return 'injuries' \n",
    "    elif bool(re.match('E|V', text)) == True:\n",
    "        return 'suppl' \n",
    "    else:\n",
    "        return 'infectious'"
   ]
  },
  {
   "cell_type": "code",
   "execution_count": 367,
   "metadata": {},
   "outputs": [],
   "source": [
    "def makeICD9Labels():\n",
    "    data = diagnosisT.copy()\n",
    "    data['ICD9Label'] = data['ICD9Code'].apply(ICD9Label)\n",
    "    data['Counts'] = 1\n",
    "    ICD9Labeldata = data.groupby(['PatientGuid', 'ICD9Label'])['Counts'].max().reset_index().pivot('PatientGuid', 'ICD9Label', 'Counts').reset_index()\n",
    "    ICD9Labeldata = ICD9Labeldata.fillna(0)\n",
    "    return ICD9Labeldata"
   ]
  },
  {
   "cell_type": "code",
   "execution_count": 368,
   "metadata": {},
   "outputs": [],
   "source": [
    "def getPatientAge():\n",
    "    data=patientT.copy()\n",
    "    data.drop('PracticeGuid', axis=1, inplace=True)\n",
    "    data.drop('State', axis=1, inplace=True)\n",
    "    data['Age'] = 2019 - data['YearOfBirth']\n",
    "    data.drop('YearOfBirth', axis=1, inplace=True)\n",
    "    return data"
   ]
  },
  {
   "cell_type": "code",
   "execution_count": 369,
   "metadata": {},
   "outputs": [],
   "source": [
    "#bloodpressure = makeBP() # bp\n",
    "bmi = makeBMI() #bmi\n",
    "conditions = makeConditions() # ICD9Codes\n",
    "specials = makeSpecials() # special diseases\n",
    "patients = getPatientAge() #age\n",
    "icd9lab = makeICD9Labels() # disease classification "
   ]
  },
  {
   "cell_type": "code",
   "execution_count": 370,
   "metadata": {},
   "outputs": [
    {
     "name": "stdout",
     "output_type": "stream",
     "text": [
      "(9948, 13) (9948, 8) (9948, 17) (9948, 4) (9948, 3945) (9948, 20)\n"
     ]
    }
   ],
   "source": [
    "print (bloodpressure.shape, \n",
    "      bmi.shape, \n",
    "      specials.shape, patients.shape, conditions.shape, icd9lab.shape)"
   ]
  },
  {
   "cell_type": "code",
   "execution_count": 371,
   "metadata": {},
   "outputs": [
    {
     "name": "stdout",
     "output_type": "stream",
     "text": [
      "(9948, 13) (9948, 8) (9948, 17) (9948, 4) (9948, 3945) (9948, 20)\n"
     ]
    }
   ],
   "source": [
    "print (bloodpressure.shape, bmi.shape, specials.shape, patients.shape, conditions.shape, icd9lab.shape)"
   ]
  },
  {
   "cell_type": "code",
   "execution_count": 351,
   "metadata": {},
   "outputs": [],
   "source": [
    "\"\"\"def getICD9(threshold=0.02):\n",
    "    ICD9 = []\n",
    "    for key in cos.keys():\n",
    "        if cos[key] > threshold:\n",
    "            ICD9.append(key)\n",
    "    return ICD9\"\"\""
   ]
  },
  {
   "cell_type": "code",
   "execution_count": 372,
   "metadata": {},
   "outputs": [],
   "source": [
    "\n",
    "newconditions = pd.concat([conditions['PatientGuid'], conditions[ICD9]], axis=1)\n",
    "patientdata = pd.merge(patients, newconditions, how='inner', on =['PatientGuid'])\n",
    "patientdata = pd.merge(patientdata, specials, how='inner', on =['PatientGuid'])\n",
    "patientdata = pd.merge(patientdata, icd9lab, how='inner', on =['PatientGuid'])\n",
    "patientdata = pd.merge(patientdata, bloodpressure, how='inner', on =['PatientGuid'])\n",
    "patientdata = pd.merge(patientdata, bmi, how='inner', on =['PatientGuid'])"
   ]
  },
  {
   "cell_type": "code",
   "execution_count": 373,
   "metadata": {},
   "outputs": [],
   "source": [
    "#create model variables\n",
    "y = patientdata['DMIndicator'] \n",
    "y.head(5)\n",
    "X = patientdata\n",
    "X = X.drop(['DMIndicator'],1)"
   ]
  },
  {
   "cell_type": "code",
   "execution_count": 380,
   "metadata": {},
   "outputs": [],
   "source": [
    "X.to_csv('ModelX.csv')"
   ]
  },
  {
   "cell_type": "code",
   "execution_count": 403,
   "metadata": {},
   "outputs": [],
   "source": [
    "from sklearn import preprocessing\n",
    "def convert(data):\n",
    "    number = preprocessing.LabelEncoder()\n",
    "    data['Gender'] = number.fit_transform(data.Gender) # 1 - Male\n",
    "    data['PatientGuid'] = number.fit_transform(data.PatientGuid)\n",
    "    data=data.fillna(-999)\n",
    "    return data\n",
    "X=convert(X)"
   ]
  },
  {
   "cell_type": "markdown",
   "metadata": {},
   "source": [
    "# Modelling"
   ]
  },
  {
   "cell_type": "code",
   "execution_count": 455,
   "metadata": {},
   "outputs": [
    {
     "data": {
      "text/plain": [
       "LogisticRegression(C=1.0, class_weight=None, dual=False, fit_intercept=True,\n",
       "          intercept_scaling=1, max_iter=100, multi_class='ovr', n_jobs=1,\n",
       "          penalty='l2', random_state=None, solver='liblinear', tol=0.0001,\n",
       "          verbose=0, warm_start=False)"
      ]
     },
     "execution_count": 455,
     "metadata": {},
     "output_type": "execute_result"
    }
   ],
   "source": [
    "X_train, X_test, y_train, y_test = train_test_split(X, y,test_size=0.3364, random_state=1)\n",
    "#X_train = np.array(X_train)\n",
    "X_test = np.array(X_test)\n",
    "y_train = np.array(y_train).ravel()\n",
    "y_test = np.array(y_test).ravel()\n",
    "model1 = LogisticRegression()\n",
    "model1.fit(X_train, y_train)"
   ]
  },
  {
   "cell_type": "code",
   "execution_count": 415,
   "metadata": {},
   "outputs": [
    {
     "data": {
      "text/plain": [
       "0.11646133370132397"
      ]
     },
     "execution_count": 415,
     "metadata": {},
     "output_type": "execute_result"
    }
   ],
   "source": [
    "y_pred_proba_train = model1.predict_proba(X_train)\n",
    "y_pred_train = model1.predict(X_train)\n",
    "brier_score_loss(y_train, y_pred_proba_train[:,1])"
   ]
  },
  {
   "cell_type": "code",
   "execution_count": 416,
   "metadata": {},
   "outputs": [
    {
     "data": {
      "text/plain": [
       "0.12515847854561613"
      ]
     },
     "execution_count": 416,
     "metadata": {},
     "output_type": "execute_result"
    }
   ],
   "source": [
    "y_pred_proba = model1.predict_proba(X_test)\n",
    "y_pred = model1.predict(X_test)\n",
    "from sklearn.metrics import brier_score_loss\n",
    "brier_score_loss(y_test, y_pred_proba[:,1])"
   ]
  },
  {
   "cell_type": "code",
   "execution_count": 418,
   "metadata": {},
   "outputs": [
    {
     "data": {
      "image/png": "[encoded data removed]",
      "text/plain": [
       "<matplotlib.figure.Figure at 0x1a27322128>"
      ]
     },
     "metadata": {},
     "output_type": "display_data"
    }
   ],
   "source": [
    "# plot impact of brier score with balanced datasets\n",
    "# https://machinelearningmastery.com/how-to-score-probability-predictions-in-python/\n",
    "from sklearn.metrics import brier_score_loss\n",
    "from matplotlib import pyplot\n",
    "from numpy import array\n",
    "# define an imbalanced dataset\n",
    "testy = y_test\n",
    "# brier score for predicting different fixed probability values\n",
    "predictions = y_pred_proba[:,1]\n",
    "losses = [brier_score_loss(testy, [y for x in range(len(testy))]) for y in predictions]\n",
    "# plot predictions vs loss\n",
    "pyplot.plot(predictions, losses)\n",
    "pyplot.show()"
   ]
  },
  {
   "cell_type": "code",
   "execution_count": 429,
   "metadata": {},
   "outputs": [],
   "source": [
    "from sklearn.naive_bayes import GaussianNB\n",
    "from sklearn.svm import SVC\n",
    "from sklearn.neighbors  import KNeighborsClassifier\n",
    "from sklearn.tree import DecisionTreeClassifier\n",
    "from sklearn.ensemble import RandomForestClassifier\n",
    "from sklearn.ensemble import AdaBoostClassifier\n",
    "from sklearn.ensemble import GradientBoostingClassifier\n",
    "from sklearn.neural_network import MLPClassifier\n",
    "\n",
    "from sklearn.metrics import f1_score\n",
    "\n",
    "# helper functions\n",
    "def train_clf(clf, X_train, y_train):\n",
    "    \n",
    "    return clf.fit(X_train, y_train)\n",
    "    \n",
    "def pred_clf(clf, features, target):\n",
    "    \n",
    "    y_pred = clf.predict(features)\n",
    "    y_pred_proba = clf.predict_proba(features)\n",
    "    return brier_score_loss(target, y_pred_proba[:,1])\n",
    "\n",
    "def train_predict(clf, X_train, y_train, X_test, y_test):\n",
    "    \n",
    "    train_clf(clf, X_train, y_train)\n",
    "    \n",
    "    print(\"Brier score for training set is: {:.4f}\".format(pred_clf(clf, X_train, y_train)))\n",
    "    print(\"Brier score for testing set is: {:.4f}\\n\".format(pred_clf(clf, X_test, y_test)))"
   ]
  },
  {
   "cell_type": "code",
   "execution_count": 438,
   "metadata": {},
   "outputs": [
    {
     "name": "stdout",
     "output_type": "stream",
     "text": [
      "GaussianNB(priors=None):\n",
      "Brier score for training set is: 0.1644\n",
      "Brier score for testing set is: 0.1867\n",
      "\n",
      "KNeighborsClassifier(algorithm='auto', leaf_size=30, metric='minkowski',\n",
      "           metric_params=None, n_jobs=1, n_neighbors=18, p=2,\n",
      "           weights='uniform'):\n",
      "Brier score for training set is: 0.1335\n",
      "Brier score for testing set is: 0.1512\n",
      "\n",
      "LogisticRegression(C=1.0, class_weight=None, dual=False, fit_intercept=True,\n",
      "          intercept_scaling=1, max_iter=100, multi_class='ovr', n_jobs=1,\n",
      "          penalty='l2', random_state=None, solver='liblinear', tol=0.0001,\n",
      "          verbose=0, warm_start=False):\n",
      "Brier score for training set is: 0.1165\n",
      "Brier score for testing set is: 0.1252\n",
      "\n",
      "DecisionTreeClassifier(class_weight=None, criterion='gini', max_depth=None,\n",
      "            max_features=None, max_leaf_nodes=None,\n",
      "            min_impurity_decrease=0.0, min_impurity_split=None,\n",
      "            min_samples_leaf=1, min_samples_split=2,\n",
      "            min_weight_fraction_leaf=0.0, presort=False, random_state=0,\n",
      "            splitter='best'):\n",
      "Brier score for training set is: 0.0000\n",
      "Brier score for testing set is: 0.2459\n",
      "\n",
      "RandomForestClassifier(bootstrap=True, class_weight=None, criterion='gini',\n",
      "            max_depth=None, max_features='auto', max_leaf_nodes=None,\n",
      "            min_impurity_decrease=0.0, min_impurity_split=None,\n",
      "            min_samples_leaf=1, min_samples_split=2,\n",
      "            min_weight_fraction_leaf=0.0, n_estimators=10, n_jobs=1,\n",
      "            oob_score=False, random_state=0, verbose=0, warm_start=False):\n",
      "Brier score for training set is: 0.0239\n",
      "Brier score for testing set is: 0.1377\n",
      "\n",
      "AdaBoostClassifier(algorithm='SAMME.R', base_estimator=None,\n",
      "          learning_rate=1.0, n_estimators=50, random_state=0):\n",
      "Brier score for training set is: 0.2351\n",
      "Brier score for testing set is: 0.2364\n",
      "\n",
      "GradientBoostingClassifier(criterion='friedman_mse', init=None,\n",
      "              learning_rate=0.1, loss='deviance', max_depth=3,\n",
      "              max_features=None, max_leaf_nodes=None,\n",
      "              min_impurity_decrease=0.0, min_impurity_split=None,\n",
      "              min_samples_leaf=1, min_samples_split=2,\n",
      "              min_weight_fraction_leaf=0.0, n_estimators=100,\n",
      "              presort='auto', random_state=0, subsample=1.0, verbose=0,\n",
      "              warm_start=False):\n",
      "Brier score for training set is: 0.1030\n",
      "Brier score for testing set is: 0.1218\n",
      "\n"
     ]
    }
   ],
   "source": [
    "nb = GaussianNB()\n",
    "knn = KNeighborsClassifier(n_neighbors=18)\n",
    "log = LogisticRegression()\n",
    "dtc = DecisionTreeClassifier(random_state=0)\n",
    "rfc = RandomForestClassifier(random_state=0)\n",
    "abc = AdaBoostClassifier(random_state=0)\n",
    "gbc = GradientBoostingClassifier(random_state=0)\n",
    "\n",
    "algorithms = [nb,knn, log, dtc, rfc, abc, gbc]\n",
    "\n",
    "for clf in algorithms:\n",
    "    \"\"\"\n",
    "    print(\"\\n{}: \\n\".format(clf.__class__.__name__))\n",
    "    \n",
    "    # create training data from first 100, then 200, then 300\n",
    "    #for n in [179, 358, 537]:\n",
    "        #train_predict(clf, X_train[:n], y_train[:n], X_test, y_test)\n",
    "    \"\"\"        \n",
    "    print(\"{}:\".format(clf))\n",
    "    train_predict(clf, X_train, y_train, X_test, y_test)"
   ]
  },
  {
   "cell_type": "code",
   "execution_count": 437,
   "metadata": {},
   "outputs": [
    {
     "name": "stdout",
     "output_type": "stream",
     "text": [
      "Number of neighbors is: 5\n",
      "Brier score for training set is: 0.1150\n",
      "Brier score for testing set is: 0.1576\n",
      "\n",
      "Number of neighbors is: 6\n",
      "Brier score for training set is: 0.1207\n",
      "Brier score for testing set is: 0.1534\n",
      "\n",
      "Number of neighbors is: 7\n",
      "Brier score for training set is: 0.1241\n",
      "Brier score for testing set is: 0.1481\n",
      "\n",
      "Number of neighbors is: 8\n",
      "Brier score for training set is: 0.1271\n",
      "Brier score for testing set is: 0.1451\n",
      "\n",
      "Number of neighbors is: 9\n",
      "Brier score for training set is: 0.1295\n",
      "Brier score for testing set is: 0.1447\n",
      "\n",
      "Number of neighbors is: 10\n",
      "Brier score for training set is: 0.1313\n",
      "Brier score for testing set is: 0.1441\n",
      "\n",
      "Number of neighbors is: 11\n",
      "Brier score for training set is: 0.1331\n",
      "Brier score for testing set is: 0.1433\n",
      "\n",
      "Number of neighbors is: 12\n",
      "Brier score for training set is: 0.1344\n",
      "Brier score for testing set is: 0.1417\n",
      "\n",
      "Number of neighbors is: 13\n",
      "Brier score for training set is: 0.1351\n",
      "Brier score for testing set is: 0.1408\n",
      "\n",
      "Number of neighbors is: 14\n",
      "Brier score for training set is: 0.1364\n",
      "Brier score for testing set is: 0.1403\n",
      "\n",
      "Number of neighbors is: 15\n",
      "Brier score for training set is: 0.1375\n",
      "Brier score for testing set is: 0.1403\n",
      "\n",
      "Number of neighbors is: 16\n",
      "Brier score for training set is: 0.1377\n",
      "Brier score for testing set is: 0.1395\n",
      "\n",
      "Number of neighbors is: 17\n",
      "Brier score for training set is: 0.1383\n",
      "Brier score for testing set is: 0.1395\n",
      "\n",
      "Number of neighbors is: 18\n",
      "Brier score for training set is: 0.1392\n",
      "Brier score for testing set is: 0.1393\n",
      "\n",
      "Number of neighbors is: 19\n",
      "Brier score for training set is: 0.1397\n",
      "Brier score for testing set is: 0.1389\n",
      "\n"
     ]
    }
   ],
   "source": [
    "# OPTIMIZING KNN\n",
    "# split training set into training and testing set\n",
    "X_train_cv, X_test_cv, y_train_cv, y_test_cv = train_test_split(X_train, y_train, test_size = 0.3, random_state=100)\n",
    "for n in range(5,20):    \n",
    "    knn = KNeighborsClassifier(n_neighbors=n)\n",
    "    print(\"Number of neighbors is: {}\".format(n))\n",
    "    train_predict(knn, X_train_cv, y_train_cv, X_test_cv, y_test_cv)"
   ]
  },
  {
   "cell_type": "code",
   "execution_count": 439,
   "metadata": {},
   "outputs": [],
   "source": [
    "gb_clf = GradientBoostingClassifier(random_state = 1)\n",
    "param_grid = {\n",
    "'n_estimators': [100, 200, 300, 400], 'learning_rate': [0.2,0.6,1.2], 'max_depth' : [1, 5, 9]\n",
    "}"
   ]
  },
  {
   "cell_type": "code",
   "execution_count": 445,
   "metadata": {},
   "outputs": [],
   "source": [
    "from sklearn.model_selection import GridSearchCV\n",
    "gb_Grid = RandomizedSearchCV(gb_clf, param_grid, cv = 5, scoring = 'roc_auc', refit = True, n_jobs=-1, verbose = 2)"
   ]
  },
  {
   "cell_type": "code",
   "execution_count": 446,
   "metadata": {},
   "outputs": [
    {
     "name": "stdout",
     "output_type": "stream",
     "text": [
      "Fitting 5 folds for each of 36 candidates, totalling 180 fits\n",
      "[CV] learning_rate=0.2, max_depth=1, n_estimators=100 ................\n",
      "[CV] learning_rate=0.2, max_depth=1, n_estimators=100 ................\n",
      "[CV] learning_rate=0.2, max_depth=1, n_estimators=100 ................\n",
      "[CV] learning_rate=0.2, max_depth=1, n_estimators=100 ................\n",
      "[CV] . learning_rate=0.2, max_depth=1, n_estimators=100, total=  40.4s\n",
      "[CV] learning_rate=0.2, max_depth=1, n_estimators=100 ................\n",
      "[CV] . learning_rate=0.2, max_depth=1, n_estimators=100, total=  40.5s\n",
      "[CV] learning_rate=0.2, max_depth=1, n_estimators=200 ................\n",
      "[CV] . learning_rate=0.2, max_depth=1, n_estimators=100, total=  40.8s\n",
      "[CV] learning_rate=0.2, max_depth=1, n_estimators=200 ................\n",
      "[CV] . learning_rate=0.2, max_depth=1, n_estimators=100, total=  40.8s\n",
      "[CV] learning_rate=0.2, max_depth=1, n_estimators=200 ................\n",
      "[CV] . learning_rate=0.2, max_depth=1, n_estimators=100, total=  52.4s\n",
      "[CV] learning_rate=0.2, max_depth=1, n_estimators=200 ................\n",
      "[CV] . learning_rate=0.2, max_depth=1, n_estimators=200, total= 1.7min\n",
      "[CV] learning_rate=0.2, max_depth=1, n_estimators=200 ................\n",
      "[CV] . learning_rate=0.2, max_depth=1, n_estimators=200, total= 1.7min\n",
      "[CV] learning_rate=0.2, max_depth=1, n_estimators=300 ................\n",
      "[CV] . learning_rate=0.2, max_depth=1, n_estimators=200, total= 1.7min\n",
      "[CV] learning_rate=0.2, max_depth=1, n_estimators=300 ................\n",
      "[CV] . learning_rate=0.2, max_depth=1, n_estimators=200, total= 1.5min\n",
      "[CV] learning_rate=0.2, max_depth=1, n_estimators=300 ................\n",
      "[CV] . learning_rate=0.2, max_depth=1, n_estimators=200, total= 1.3min\n",
      "[CV] learning_rate=0.2, max_depth=1, n_estimators=300 ................\n",
      "[CV] . learning_rate=0.2, max_depth=1, n_estimators=300, total= 2.0min\n",
      "[CV] learning_rate=0.2, max_depth=1, n_estimators=300 ................\n",
      "[CV] . learning_rate=0.2, max_depth=1, n_estimators=300, total= 2.1min\n",
      "[CV] learning_rate=0.2, max_depth=1, n_estimators=400 ................\n",
      "[CV] . learning_rate=0.2, max_depth=1, n_estimators=300, total= 2.1min\n",
      "[CV] learning_rate=0.2, max_depth=1, n_estimators=400 ................\n",
      "[CV] . learning_rate=0.2, max_depth=1, n_estimators=300, total= 2.2min\n",
      "[CV] learning_rate=0.2, max_depth=1, n_estimators=400 ................\n",
      "[CV] . learning_rate=0.2, max_depth=1, n_estimators=300, total= 2.2min\n",
      "[CV] learning_rate=0.2, max_depth=1, n_estimators=400 ................\n",
      "[CV] . learning_rate=0.2, max_depth=1, n_estimators=400, total= 3.0min\n",
      "[CV] learning_rate=0.2, max_depth=1, n_estimators=400 ................\n",
      "[CV] . learning_rate=0.2, max_depth=1, n_estimators=400, total= 3.1min\n",
      "[CV] learning_rate=0.2, max_depth=5, n_estimators=100 ................\n",
      "[CV] . learning_rate=0.2, max_depth=1, n_estimators=400, total= 3.1min\n",
      "[CV] learning_rate=0.2, max_depth=5, n_estimators=100 ................\n",
      "[CV] . learning_rate=0.2, max_depth=1, n_estimators=400, total= 3.0min\n",
      "[CV] learning_rate=0.2, max_depth=5, n_estimators=100 ................\n",
      "[CV] . learning_rate=0.2, max_depth=1, n_estimators=400, total= 2.9min\n",
      "[CV] learning_rate=0.2, max_depth=5, n_estimators=100 ................\n",
      "[CV] . learning_rate=0.2, max_depth=5, n_estimators=100, total= 3.7min\n",
      "[CV] learning_rate=0.2, max_depth=5, n_estimators=100 ................\n",
      "[CV] . learning_rate=0.2, max_depth=5, n_estimators=100, total= 3.7min\n",
      "[CV] learning_rate=0.2, max_depth=5, n_estimators=200 ................\n",
      "[CV] . learning_rate=0.2, max_depth=5, n_estimators=100, total= 3.7min\n",
      "[CV] learning_rate=0.2, max_depth=5, n_estimators=200 ................\n",
      "[CV] . learning_rate=0.2, max_depth=5, n_estimators=100, total= 3.6min\n",
      "[CV] learning_rate=0.2, max_depth=5, n_estimators=200 ................\n",
      "[CV] . learning_rate=0.2, max_depth=5, n_estimators=100, total= 3.6min\n",
      "[CV] learning_rate=0.2, max_depth=5, n_estimators=200 ................\n",
      "[CV] . learning_rate=0.2, max_depth=5, n_estimators=200, total= 7.2min\n",
      "[CV] learning_rate=0.2, max_depth=5, n_estimators=200 ................\n",
      "[CV] . learning_rate=0.2, max_depth=5, n_estimators=200, total= 7.2min\n",
      "[CV] learning_rate=0.2, max_depth=5, n_estimators=300 ................\n",
      "[CV] . learning_rate=0.2, max_depth=5, n_estimators=200, total= 7.3min\n",
      "[CV] learning_rate=0.2, max_depth=5, n_estimators=300 ................\n",
      "[CV] . learning_rate=0.2, max_depth=5, n_estimators=200, total= 7.4min\n",
      "[CV] learning_rate=0.2, max_depth=5, n_estimators=300 ................\n",
      "[CV] . learning_rate=0.2, max_depth=5, n_estimators=200, total= 7.8min\n",
      "[CV] learning_rate=0.2, max_depth=5, n_estimators=300 ................\n",
      "[CV] . learning_rate=0.2, max_depth=5, n_estimators=300, total=11.8min\n",
      "[CV] learning_rate=0.2, max_depth=5, n_estimators=300 ................\n",
      "[CV] . learning_rate=0.2, max_depth=5, n_estimators=300, total=11.9min\n",
      "[CV] learning_rate=0.2, max_depth=5, n_estimators=400 ................\n",
      "[CV] . learning_rate=0.2, max_depth=5, n_estimators=300, total=11.9min\n",
      "[CV] learning_rate=0.2, max_depth=5, n_estimators=400 ................\n"
     ]
    },
    {
     "name": "stderr",
     "output_type": "stream",
     "text": [
      "[Parallel(n_jobs=-1)]: Done  33 tasks      | elapsed: 34.9min\n"
     ]
    },
    {
     "name": "stdout",
     "output_type": "stream",
     "text": [
      "[CV] . learning_rate=0.2, max_depth=5, n_estimators=300, total=11.8min\n",
      "[CV] learning_rate=0.2, max_depth=5, n_estimators=400 ................\n",
      "[CV] . learning_rate=0.2, max_depth=5, n_estimators=300, total=11.8min\n",
      "[CV] learning_rate=0.2, max_depth=5, n_estimators=400 ................\n",
      "[CV] . learning_rate=0.2, max_depth=5, n_estimators=400, total=15.6min\n",
      "[CV] learning_rate=0.2, max_depth=5, n_estimators=400 ................\n",
      "[CV] . learning_rate=0.2, max_depth=5, n_estimators=400, total=15.7min\n",
      "[CV] learning_rate=0.2, max_depth=9, n_estimators=100 ................\n",
      "[CV] . learning_rate=0.2, max_depth=5, n_estimators=400, total=15.4min\n",
      "[CV] learning_rate=0.2, max_depth=9, n_estimators=100 ................\n",
      "[CV] . learning_rate=0.2, max_depth=9, n_estimators=100, total= 6.8min\n",
      "[CV] learning_rate=0.2, max_depth=9, n_estimators=100 ................\n",
      "[CV] . learning_rate=0.2, max_depth=5, n_estimators=400, total=14.6min\n",
      "[CV] learning_rate=0.2, max_depth=9, n_estimators=100 ................\n",
      "[CV] . learning_rate=0.2, max_depth=9, n_estimators=100, total= 6.7min\n",
      "[CV] learning_rate=0.2, max_depth=9, n_estimators=100 ................\n",
      "[CV] . learning_rate=0.2, max_depth=5, n_estimators=400, total=13.8min\n",
      "[CV] learning_rate=0.2, max_depth=9, n_estimators=200 ................\n",
      "[CV] . learning_rate=0.2, max_depth=9, n_estimators=100, total= 6.5min\n",
      "[CV] learning_rate=0.2, max_depth=9, n_estimators=200 ................\n",
      "[CV] . learning_rate=0.2, max_depth=9, n_estimators=100, total= 6.6min\n",
      "[CV] learning_rate=0.2, max_depth=9, n_estimators=200 ................\n",
      "[CV] . learning_rate=0.2, max_depth=9, n_estimators=100, total= 6.5min\n",
      "[CV] learning_rate=0.2, max_depth=9, n_estimators=200 ................\n",
      "[CV] . learning_rate=0.2, max_depth=9, n_estimators=200, total=12.6min\n",
      "[CV] learning_rate=0.2, max_depth=9, n_estimators=200 ................\n",
      "[CV] . learning_rate=0.2, max_depth=9, n_estimators=200, total=12.9min\n",
      "[CV] learning_rate=0.2, max_depth=9, n_estimators=300 ................\n",
      "[CV] . learning_rate=0.2, max_depth=9, n_estimators=200, total=12.8min\n",
      "[CV] learning_rate=0.2, max_depth=9, n_estimators=300 ................\n",
      "[CV] . learning_rate=0.2, max_depth=9, n_estimators=200, total=12.8min\n",
      "[CV] learning_rate=0.2, max_depth=9, n_estimators=300 ................\n",
      "[CV] . learning_rate=0.2, max_depth=9, n_estimators=200, total=12.2min\n",
      "[CV] learning_rate=0.2, max_depth=9, n_estimators=300 ................\n",
      "[CV] . learning_rate=0.2, max_depth=9, n_estimators=300, total=17.9min\n",
      "[CV] learning_rate=0.2, max_depth=9, n_estimators=300 ................\n",
      "[CV] . learning_rate=0.2, max_depth=9, n_estimators=300, total=18.1min\n",
      "[CV] learning_rate=0.2, max_depth=9, n_estimators=400 ................\n",
      "[CV] . learning_rate=0.2, max_depth=9, n_estimators=300, total=18.2min\n",
      "[CV] learning_rate=0.2, max_depth=9, n_estimators=400 ................\n",
      "[CV] . learning_rate=0.2, max_depth=9, n_estimators=300, total=18.4min\n",
      "[CV] learning_rate=0.2, max_depth=9, n_estimators=400 ................\n",
      "[CV] . learning_rate=0.2, max_depth=9, n_estimators=300, total=17.5min\n",
      "[CV] learning_rate=0.2, max_depth=9, n_estimators=400 ................\n",
      "[CV] . learning_rate=0.2, max_depth=9, n_estimators=400, total=22.8min\n",
      "[CV] learning_rate=0.2, max_depth=9, n_estimators=400 ................\n",
      "[CV] . learning_rate=0.2, max_depth=9, n_estimators=400, total=22.7min\n",
      "[CV] learning_rate=0.6, max_depth=1, n_estimators=100 ................\n",
      "[CV] . learning_rate=0.6, max_depth=1, n_estimators=100, total=  36.9s\n",
      "[CV] learning_rate=0.6, max_depth=1, n_estimators=100 ................\n",
      "[CV] . learning_rate=0.6, max_depth=1, n_estimators=100, total=  36.6s\n",
      "[CV] learning_rate=0.6, max_depth=1, n_estimators=100 ................\n",
      "[CV] . learning_rate=0.6, max_depth=1, n_estimators=100, total=  41.8s\n",
      "[CV] learning_rate=0.6, max_depth=1, n_estimators=100 ................\n",
      "[CV] . learning_rate=0.6, max_depth=1, n_estimators=100, total=  50.2s\n",
      "[CV] learning_rate=0.6, max_depth=1, n_estimators=100 ................\n",
      "[CV] . learning_rate=0.6, max_depth=1, n_estimators=100, total=  53.4s\n",
      "[CV] learning_rate=0.6, max_depth=1, n_estimators=200 ................\n",
      "[CV] . learning_rate=0.6, max_depth=1, n_estimators=200, total= 1.6min\n",
      "[CV] learning_rate=0.6, max_depth=1, n_estimators=200 ................\n",
      "[CV] . learning_rate=0.6, max_depth=1, n_estimators=200, total= 2.0min\n",
      "[CV] learning_rate=0.6, max_depth=1, n_estimators=200 ................\n",
      "[CV] . learning_rate=0.2, max_depth=9, n_estimators=400, total=24.3min\n",
      "[CV] learning_rate=0.6, max_depth=1, n_estimators=200 ................\n",
      "[CV] . learning_rate=0.6, max_depth=1, n_estimators=200, total= 1.8min\n",
      "[CV] learning_rate=0.6, max_depth=1, n_estimators=200 ................\n",
      "[CV] . learning_rate=0.6, max_depth=1, n_estimators=200, total= 1.8min\n",
      "[CV] learning_rate=0.6, max_depth=1, n_estimators=300 ................\n",
      "[CV] . learning_rate=0.6, max_depth=1, n_estimators=200, total= 1.6min\n",
      "[CV] learning_rate=0.6, max_depth=1, n_estimators=300 ................\n",
      "[CV] . learning_rate=0.6, max_depth=1, n_estimators=300, total= 2.1min\n",
      "[CV] learning_rate=0.6, max_depth=1, n_estimators=300 ................\n",
      "[CV] . learning_rate=0.6, max_depth=1, n_estimators=300, total= 2.2min\n",
      "[CV] learning_rate=0.6, max_depth=1, n_estimators=300 ................\n",
      "[CV] . learning_rate=0.6, max_depth=1, n_estimators=300, total= 4.7min\n",
      "[CV] learning_rate=0.6, max_depth=1, n_estimators=300 ................\n",
      "[CV] . learning_rate=0.6, max_depth=1, n_estimators=300, total= 4.6min\n",
      "[CV] learning_rate=0.6, max_depth=1, n_estimators=400 ................\n",
      "[CV] . learning_rate=0.6, max_depth=1, n_estimators=300, total= 2.2min\n",
      "[CV] learning_rate=0.6, max_depth=1, n_estimators=400 ................\n",
      "[CV] . learning_rate=0.2, max_depth=9, n_estimators=400, total=29.0min\n",
      "[CV] learning_rate=0.6, max_depth=1, n_estimators=400 ................\n",
      "[CV] . learning_rate=0.6, max_depth=1, n_estimators=400, total= 2.9min\n",
      "[CV] learning_rate=0.6, max_depth=1, n_estimators=400 ................\n",
      "[CV] . learning_rate=0.6, max_depth=1, n_estimators=400, total= 2.8min\n",
      "[CV] learning_rate=0.6, max_depth=1, n_estimators=400 ................\n",
      "[CV] . learning_rate=0.6, max_depth=1, n_estimators=400, total= 2.8min\n",
      "[CV] learning_rate=0.6, max_depth=5, n_estimators=100 ................\n",
      "[CV] . learning_rate=0.6, max_depth=1, n_estimators=400, total= 2.7min\n",
      "[CV] learning_rate=0.6, max_depth=5, n_estimators=100 ................\n",
      "[CV] . learning_rate=0.6, max_depth=1, n_estimators=400, total= 2.6min\n",
      "[CV] learning_rate=0.6, max_depth=5, n_estimators=100 ................\n",
      "[CV] . learning_rate=0.6, max_depth=5, n_estimators=100, total= 3.5min\n",
      "[CV] learning_rate=0.6, max_depth=5, n_estimators=100 ................\n",
      "[CV] . learning_rate=0.6, max_depth=5, n_estimators=100, total= 4.4min\n",
      "[CV] learning_rate=0.6, max_depth=5, n_estimators=100 ................\n",
      "[CV] . learning_rate=0.2, max_depth=9, n_estimators=400, total=31.4min\n",
      "[CV] learning_rate=0.6, max_depth=5, n_estimators=200 ................\n",
      "[CV] . learning_rate=0.6, max_depth=5, n_estimators=100, total= 5.8min\n",
      "[CV] learning_rate=0.6, max_depth=5, n_estimators=200 ................\n",
      "[CV] . learning_rate=0.6, max_depth=5, n_estimators=100, total= 6.6min\n",
      "[CV] learning_rate=0.6, max_depth=5, n_estimators=200 ................\n",
      "[CV] . learning_rate=0.6, max_depth=5, n_estimators=100, total= 6.7min\n",
      "[CV] learning_rate=0.6, max_depth=5, n_estimators=200 ................\n",
      "[CV] . learning_rate=0.6, max_depth=5, n_estimators=200, total=12.8min\n",
      "[CV] learning_rate=0.6, max_depth=5, n_estimators=200 ................\n",
      "[CV] . learning_rate=0.6, max_depth=5, n_estimators=200, total=12.6min\n",
      "[CV] learning_rate=0.6, max_depth=5, n_estimators=300 ................\n",
      "[CV] . learning_rate=0.6, max_depth=5, n_estimators=200, total=12.7min\n",
      "[CV] learning_rate=0.6, max_depth=5, n_estimators=300 ................\n",
      "[CV] . learning_rate=0.6, max_depth=5, n_estimators=200, total=12.5min\n",
      "[CV] learning_rate=0.6, max_depth=5, n_estimators=300 ................\n",
      "[CV] . learning_rate=0.6, max_depth=5, n_estimators=200, total=13.0min\n",
      "[CV] learning_rate=0.6, max_depth=5, n_estimators=300 ................\n",
      "[CV] . learning_rate=0.6, max_depth=5, n_estimators=300, total=19.9min\n",
      "[CV] learning_rate=0.6, max_depth=5, n_estimators=300 ................\n"
     ]
    },
    {
     "name": "stdout",
     "output_type": "stream",
     "text": [
      "[CV] . learning_rate=0.6, max_depth=5, n_estimators=300, total=20.5min\n",
      "[CV] learning_rate=0.6, max_depth=5, n_estimators=400 ................\n",
      "[CV] . learning_rate=0.6, max_depth=5, n_estimators=300, total=21.1min\n",
      "[CV] learning_rate=0.6, max_depth=5, n_estimators=400 ................\n",
      "[CV] . learning_rate=0.6, max_depth=5, n_estimators=300, total=22.1min\n",
      "[CV] learning_rate=0.6, max_depth=5, n_estimators=400 ................\n",
      "[CV] . learning_rate=0.6, max_depth=5, n_estimators=300, total=23.9min\n",
      "[CV] learning_rate=0.6, max_depth=5, n_estimators=400 ................\n",
      "[CV] . learning_rate=0.6, max_depth=5, n_estimators=400, total=31.5min\n",
      "[CV] learning_rate=0.6, max_depth=5, n_estimators=400 ................\n",
      "[CV] . learning_rate=0.6, max_depth=5, n_estimators=400, total=30.4min\n",
      "[CV] learning_rate=0.6, max_depth=9, n_estimators=100 ................\n",
      "[CV] . learning_rate=0.6, max_depth=5, n_estimators=400, total=26.6min\n",
      "[CV] learning_rate=0.6, max_depth=9, n_estimators=100 ................\n",
      "[CV] . learning_rate=0.6, max_depth=9, n_estimators=100, total= 8.0min\n",
      "[CV] learning_rate=0.6, max_depth=9, n_estimators=100 ................\n",
      "[CV] . learning_rate=0.6, max_depth=5, n_estimators=400, total=21.3min\n",
      "[CV] learning_rate=0.6, max_depth=9, n_estimators=100 ................\n",
      "[CV] . learning_rate=0.6, max_depth=9, n_estimators=100, total= 7.0min\n",
      "[CV] learning_rate=0.6, max_depth=9, n_estimators=100 ................\n",
      "[CV] . learning_rate=0.6, max_depth=5, n_estimators=400, total=15.9min\n",
      "[CV] learning_rate=0.6, max_depth=9, n_estimators=200 ................\n",
      "[CV] . learning_rate=0.6, max_depth=9, n_estimators=100, total= 6.9min\n",
      "[CV] learning_rate=0.6, max_depth=9, n_estimators=200 ................\n",
      "[CV] . learning_rate=0.6, max_depth=9, n_estimators=100, total= 6.9min\n",
      "[CV] learning_rate=0.6, max_depth=9, n_estimators=200 ................\n",
      "[CV] . learning_rate=0.6, max_depth=9, n_estimators=100, total= 6.7min\n",
      "[CV] learning_rate=0.6, max_depth=9, n_estimators=200 ................\n",
      "[CV] . learning_rate=0.6, max_depth=9, n_estimators=200, total=13.8min\n",
      "[CV] learning_rate=0.6, max_depth=9, n_estimators=200 ................\n",
      "[CV] . learning_rate=0.6, max_depth=9, n_estimators=200, total=14.1min\n",
      "[CV] learning_rate=0.6, max_depth=9, n_estimators=300 ................\n",
      "[CV] . learning_rate=0.6, max_depth=9, n_estimators=200, total=14.0min\n",
      "[CV] learning_rate=0.6, max_depth=9, n_estimators=300 ................\n",
      "[CV] . learning_rate=0.6, max_depth=9, n_estimators=200, total=13.9min\n",
      "[CV] learning_rate=0.6, max_depth=9, n_estimators=300 ................\n",
      "[CV] . learning_rate=0.6, max_depth=9, n_estimators=200, total=14.1min\n",
      "[CV] learning_rate=0.6, max_depth=9, n_estimators=300 ................\n",
      "[CV] . learning_rate=0.6, max_depth=9, n_estimators=300, total=20.2min\n",
      "[CV] learning_rate=0.6, max_depth=9, n_estimators=300 ................\n",
      "[CV] . learning_rate=0.6, max_depth=9, n_estimators=300, total=20.6min\n",
      "[CV] learning_rate=0.6, max_depth=9, n_estimators=400 ................\n",
      "[CV] . learning_rate=0.6, max_depth=9, n_estimators=300, total=20.3min\n",
      "[CV] learning_rate=0.6, max_depth=9, n_estimators=400 ................\n",
      "[CV] . learning_rate=0.6, max_depth=9, n_estimators=300, total=19.2min\n",
      "[CV] learning_rate=0.6, max_depth=9, n_estimators=400 ................\n",
      "[CV] . learning_rate=0.6, max_depth=9, n_estimators=300, total=19.5min\n",
      "[CV] learning_rate=0.6, max_depth=9, n_estimators=400 ................\n",
      "[CV] . learning_rate=0.6, max_depth=9, n_estimators=400, total=25.1min\n",
      "[CV] learning_rate=0.6, max_depth=9, n_estimators=400 ................\n",
      "[CV] . learning_rate=0.6, max_depth=9, n_estimators=400, total=25.7min\n",
      "[CV] learning_rate=1.2, max_depth=1, n_estimators=100 ................\n",
      "[CV] . learning_rate=1.2, max_depth=1, n_estimators=100, total=  41.2s\n",
      "[CV] learning_rate=1.2, max_depth=1, n_estimators=100 ................\n",
      "[CV] . learning_rate=1.2, max_depth=1, n_estimators=100, total=  39.0s\n",
      "[CV] learning_rate=1.2, max_depth=1, n_estimators=100 ................\n",
      "[CV] . learning_rate=1.2, max_depth=1, n_estimators=100, total=  36.8s\n",
      "[CV] learning_rate=1.2, max_depth=1, n_estimators=100 ................\n",
      "[CV] . learning_rate=1.2, max_depth=1, n_estimators=100, total=  37.0s\n",
      "[CV] learning_rate=1.2, max_depth=1, n_estimators=100 ................\n",
      "[CV] . learning_rate=1.2, max_depth=1, n_estimators=100, total=  36.8s\n",
      "[CV] learning_rate=1.2, max_depth=1, n_estimators=200 ................\n",
      "[CV] . learning_rate=1.2, max_depth=1, n_estimators=200, total= 1.2min\n",
      "[CV] learning_rate=1.2, max_depth=1, n_estimators=200 ................\n",
      "[CV] . learning_rate=1.2, max_depth=1, n_estimators=200, total= 1.3min\n",
      "[CV] learning_rate=1.2, max_depth=1, n_estimators=200 ................\n",
      "[CV] . learning_rate=1.2, max_depth=1, n_estimators=200, total= 1.3min\n",
      "[CV] learning_rate=1.2, max_depth=1, n_estimators=200 ................\n",
      "[CV] . learning_rate=0.6, max_depth=9, n_estimators=400, total=25.0min\n",
      "[CV] learning_rate=1.2, max_depth=1, n_estimators=200 ................\n",
      "[CV] . learning_rate=1.2, max_depth=1, n_estimators=200, total= 1.2min\n",
      "[CV] learning_rate=1.2, max_depth=1, n_estimators=300 ................\n",
      "[CV] . learning_rate=1.2, max_depth=1, n_estimators=200, total= 1.3min\n",
      "[CV] learning_rate=1.2, max_depth=1, n_estimators=300 ................\n",
      "[CV] . learning_rate=1.2, max_depth=1, n_estimators=300, total= 2.0min\n",
      "[CV] learning_rate=1.2, max_depth=1, n_estimators=300 ................\n",
      "[CV] . learning_rate=1.2, max_depth=1, n_estimators=300, total= 2.2min\n",
      "[CV] learning_rate=1.2, max_depth=1, n_estimators=300 ................\n",
      "[CV] . learning_rate=1.2, max_depth=1, n_estimators=300, total= 2.2min\n",
      "[CV] learning_rate=1.2, max_depth=1, n_estimators=300 ................\n",
      "[CV] . learning_rate=1.2, max_depth=1, n_estimators=300, total= 2.3min\n",
      "[CV] learning_rate=1.2, max_depth=1, n_estimators=400 ................\n",
      "[CV] . learning_rate=1.2, max_depth=1, n_estimators=300, total= 2.1min\n",
      "[CV] learning_rate=1.2, max_depth=1, n_estimators=400 ................\n",
      "[CV] . learning_rate=0.6, max_depth=9, n_estimators=400, total=24.9min\n",
      "[CV] learning_rate=1.2, max_depth=1, n_estimators=400 ................\n",
      "[CV] . learning_rate=1.2, max_depth=1, n_estimators=400, total= 2.6min\n",
      "[CV] learning_rate=1.2, max_depth=1, n_estimators=400 ................\n",
      "[CV] . learning_rate=1.2, max_depth=1, n_estimators=400, total= 2.5min\n",
      "[CV] learning_rate=1.2, max_depth=1, n_estimators=400 ................\n",
      "[CV] . learning_rate=1.2, max_depth=1, n_estimators=400, total= 2.6min\n",
      "[CV] learning_rate=1.2, max_depth=5, n_estimators=100 ................\n",
      "[CV] . learning_rate=1.2, max_depth=1, n_estimators=400, total= 2.5min\n",
      "[CV] learning_rate=1.2, max_depth=5, n_estimators=100 ................\n",
      "[CV] . learning_rate=1.2, max_depth=1, n_estimators=400, total= 2.4min\n",
      "[CV] learning_rate=1.2, max_depth=5, n_estimators=100 ................\n",
      "[CV] . learning_rate=1.2, max_depth=5, n_estimators=100, total= 3.2min\n",
      "[CV] learning_rate=1.2, max_depth=5, n_estimators=100 ................\n",
      "[CV] . learning_rate=0.6, max_depth=9, n_estimators=400, total=24.2min\n",
      "[CV] learning_rate=1.2, max_depth=5, n_estimators=100 ................\n",
      "[CV] . learning_rate=1.2, max_depth=5, n_estimators=100, total= 3.1min\n",
      "[CV] learning_rate=1.2, max_depth=5, n_estimators=200 ................\n",
      "[CV] . learning_rate=1.2, max_depth=5, n_estimators=100, total= 3.1min\n",
      "[CV] learning_rate=1.2, max_depth=5, n_estimators=200 ................\n",
      "[CV] . learning_rate=1.2, max_depth=5, n_estimators=100, total= 3.1min\n",
      "[CV] learning_rate=1.2, max_depth=5, n_estimators=200 ................\n",
      "[CV] . learning_rate=1.2, max_depth=5, n_estimators=100, total= 3.1min\n",
      "[CV] learning_rate=1.2, max_depth=5, n_estimators=200 ................\n",
      "[CV] . learning_rate=1.2, max_depth=5, n_estimators=200, total= 6.2min\n",
      "[CV] learning_rate=1.2, max_depth=5, n_estimators=200 ................\n",
      "[CV] . learning_rate=1.2, max_depth=5, n_estimators=200, total= 6.2min\n",
      "[CV] learning_rate=1.2, max_depth=5, n_estimators=300 ................\n",
      "[CV] . learning_rate=1.2, max_depth=5, n_estimators=200, total= 6.2min\n",
      "[CV] learning_rate=1.2, max_depth=5, n_estimators=300 ................\n",
      "[CV] . learning_rate=1.2, max_depth=5, n_estimators=200, total= 6.1min\n",
      "[CV] learning_rate=1.2, max_depth=5, n_estimators=300 ................\n"
     ]
    },
    {
     "name": "stdout",
     "output_type": "stream",
     "text": [
      "[CV] . learning_rate=1.2, max_depth=5, n_estimators=200, total= 6.2min\n",
      "[CV] learning_rate=1.2, max_depth=5, n_estimators=300 ................\n",
      "[CV] . learning_rate=1.2, max_depth=5, n_estimators=300, total= 9.3min\n",
      "[CV] learning_rate=1.2, max_depth=5, n_estimators=300 ................\n",
      "[CV] . learning_rate=1.2, max_depth=5, n_estimators=300, total= 9.2min\n",
      "[CV] learning_rate=1.2, max_depth=5, n_estimators=400 ................\n",
      "[CV] . learning_rate=1.2, max_depth=5, n_estimators=300, total= 9.3min\n",
      "[CV] learning_rate=1.2, max_depth=5, n_estimators=400 ................\n",
      "[CV] . learning_rate=1.2, max_depth=5, n_estimators=300, total= 9.7min\n",
      "[CV] learning_rate=1.2, max_depth=5, n_estimators=400 ................\n"
     ]
    },
    {
     "name": "stderr",
     "output_type": "stream",
     "text": [
      "[Parallel(n_jobs=-1)]: Done 154 tasks      | elapsed: 342.9min\n"
     ]
    },
    {
     "name": "stdout",
     "output_type": "stream",
     "text": [
      "[CV] . learning_rate=1.2, max_depth=5, n_estimators=300, total=10.8min\n",
      "[CV] learning_rate=1.2, max_depth=5, n_estimators=400 ................\n",
      "[CV] . learning_rate=1.2, max_depth=5, n_estimators=400, total=15.0min\n",
      "[CV] learning_rate=1.2, max_depth=5, n_estimators=400 ................\n",
      "[CV] . learning_rate=1.2, max_depth=5, n_estimators=400, total=15.6min\n",
      "[CV] learning_rate=1.2, max_depth=9, n_estimators=100 ................\n",
      "[CV] . learning_rate=1.2, max_depth=5, n_estimators=400, total=16.0min\n",
      "[CV] learning_rate=1.2, max_depth=9, n_estimators=100 ................\n",
      "[CV] . learning_rate=1.2, max_depth=9, n_estimators=100, total= 7.4min\n",
      "[CV] learning_rate=1.2, max_depth=9, n_estimators=100 ................\n",
      "[CV] . learning_rate=1.2, max_depth=5, n_estimators=400, total=15.8min\n",
      "[CV] learning_rate=1.2, max_depth=9, n_estimators=100 ................\n",
      "[CV] . learning_rate=1.2, max_depth=9, n_estimators=100, total= 7.5min\n",
      "[CV] learning_rate=1.2, max_depth=9, n_estimators=100 ................\n",
      "[CV] . learning_rate=1.2, max_depth=5, n_estimators=400, total=16.5min\n",
      "[CV] learning_rate=1.2, max_depth=9, n_estimators=200 ................\n",
      "[CV] . learning_rate=1.2, max_depth=9, n_estimators=100, total= 7.5min\n",
      "[CV] learning_rate=1.2, max_depth=9, n_estimators=200 ................\n",
      "[CV] . learning_rate=1.2, max_depth=9, n_estimators=100, total= 7.6min\n",
      "[CV] learning_rate=1.2, max_depth=9, n_estimators=200 ................\n",
      "[CV] . learning_rate=1.2, max_depth=9, n_estimators=100, total= 7.8min\n",
      "[CV] learning_rate=1.2, max_depth=9, n_estimators=200 ................\n",
      "[CV] . learning_rate=1.2, max_depth=9, n_estimators=200, total=14.2min\n",
      "[CV] learning_rate=1.2, max_depth=9, n_estimators=200 ................\n",
      "[CV] . learning_rate=1.2, max_depth=9, n_estimators=200, total=14.9min\n",
      "[CV] learning_rate=1.2, max_depth=9, n_estimators=300 ................\n",
      "[CV] . learning_rate=1.2, max_depth=9, n_estimators=200, total=14.6min\n",
      "[CV] learning_rate=1.2, max_depth=9, n_estimators=300 ................\n",
      "[CV] . learning_rate=1.2, max_depth=9, n_estimators=200, total=14.9min\n",
      "[CV] learning_rate=1.2, max_depth=9, n_estimators=300 ................\n",
      "[CV] . learning_rate=1.2, max_depth=9, n_estimators=200, total=14.7min\n",
      "[CV] learning_rate=1.2, max_depth=9, n_estimators=300 ................\n",
      "[CV] . learning_rate=1.2, max_depth=9, n_estimators=300, total=15.7min\n",
      "[CV] learning_rate=1.2, max_depth=9, n_estimators=300 ................\n",
      "[CV] . learning_rate=1.2, max_depth=9, n_estimators=300, total=21.8min\n",
      "[CV] learning_rate=1.2, max_depth=9, n_estimators=400 ................\n",
      "[CV] . learning_rate=1.2, max_depth=9, n_estimators=300, total=22.2min\n",
      "[CV] learning_rate=1.2, max_depth=9, n_estimators=400 ................\n",
      "[CV] . learning_rate=1.2, max_depth=9, n_estimators=300, total=16.5min\n",
      "[CV] learning_rate=1.2, max_depth=9, n_estimators=400 ................\n",
      "[CV] . learning_rate=1.2, max_depth=9, n_estimators=300, total=19.2min\n",
      "[CV] learning_rate=1.2, max_depth=9, n_estimators=400 ................\n",
      "[CV] . learning_rate=1.2, max_depth=9, n_estimators=400, total=13.9min\n",
      "[CV] learning_rate=1.2, max_depth=9, n_estimators=400 ................\n",
      "[CV] . learning_rate=1.2, max_depth=9, n_estimators=400, total=25.1min\n",
      "[CV] . learning_rate=1.2, max_depth=9, n_estimators=400, total=13.7min\n",
      "[CV] . learning_rate=1.2, max_depth=9, n_estimators=400, total=20.8min\n",
      "[CV] . learning_rate=1.2, max_depth=9, n_estimators=400, total=13.3min\n"
     ]
    },
    {
     "name": "stderr",
     "output_type": "stream",
     "text": [
      "[Parallel(n_jobs=-1)]: Done 180 out of 180 | elapsed: 438.5min finished\n"
     ]
    },
    {
     "data": {
      "text/plain": [
       "GridSearchCV(cv=5, error_score='raise',\n",
       "       estimator=GradientBoostingClassifier(criterion='friedman_mse', init=None,\n",
       "              learning_rate=0.1, loss='deviance', max_depth=3,\n",
       "              max_features=None, max_leaf_nodes=None,\n",
       "              min_impurity_decrease=0.0, min_impurity_split=None,\n",
       "              min_samples_leaf=1, min_samples_split=2,\n",
       "              min_weight_fraction_leaf=0.0, n_estimators=100,\n",
       "              presort='auto', random_state=1, subsample=1.0, verbose=0,\n",
       "              warm_start=False),\n",
       "       fit_params=None, iid=True, n_jobs=-1,\n",
       "       param_grid={'n_estimators': [100, 200, 300, 400], 'learning_rate': [0.2, 0.6, 1.2], 'max_depth': [1, 5, 9]},\n",
       "       pre_dispatch='2*n_jobs', refit=True, return_train_score='warn',\n",
       "       scoring='roc_auc', verbose=2)"
      ]
     },
     "execution_count": 446,
     "metadata": {},
     "output_type": "execute_result"
    }
   ],
   "source": [
    "gb_Grid.fit(X_train, Y_train)"
   ]
  },
  {
   "cell_type": "code",
   "execution_count": 447,
   "metadata": {},
   "outputs": [
    {
     "data": {
      "text/plain": [
       "{'learning_rate': 0.2, 'max_depth': 1, 'n_estimators': 300}"
      ]
     },
     "execution_count": 447,
     "metadata": {},
     "output_type": "execute_result"
    }
   ],
   "source": [
    "gb_Grid.best_params_"
   ]
  },
  {
   "cell_type": "code",
   "execution_count": 448,
   "metadata": {},
   "outputs": [
    {
     "data": {
      "text/plain": [
       "GradientBoostingClassifier(criterion='friedman_mse', init=None,\n",
       "              learning_rate=0.2, loss='deviance', max_depth=1,\n",
       "              max_features=None, max_leaf_nodes=None,\n",
       "              min_impurity_decrease=0.0, min_impurity_split=None,\n",
       "              min_samples_leaf=1, min_samples_split=2,\n",
       "              min_weight_fraction_leaf=0.0, n_estimators=300,\n",
       "              presort='auto', random_state=1, subsample=1.0, verbose=0,\n",
       "              warm_start=False)"
      ]
     },
     "execution_count": 448,
     "metadata": {},
     "output_type": "execute_result"
    }
   ],
   "source": [
    "gb_Grid.best_estimator_\n",
    "\"\"\"GradientBoostingClassifier(criterion='friedman_mse', init=None,\n",
    "              learning_rate=0.2, loss='deviance', max_depth=1,\n",
    "              max_features=None, max_leaf_nodes=None,\n",
    "              min_impurity_decrease=0.0, min_impurity_split=None,\n",
    "              min_samples_leaf=1, min_samples_split=2,\n",
    "              min_weight_fraction_leaf=0.0, n_estimators=300,\n",
    "              presort='auto', random_state=1, subsample=1.0, verbose=0,\n",
    "              warm_start=False)\"\"\""
   ]
  },
  {
   "cell_type": "code",
   "execution_count": 451,
   "metadata": {},
   "outputs": [],
   "source": [
    "gb_clf = GradientBoostingClassifier(criterion='friedman_mse', init=None,\n",
    "              learning_rate=0.2, loss='deviance', max_depth=1,\n",
    "              max_features=None, max_leaf_nodes=None,\n",
    "              min_impurity_decrease=0.0, min_impurity_split=None,\n",
    "              min_samples_leaf=1, min_samples_split=2,\n",
    "              min_weight_fraction_leaf=0.0, n_estimators=300,\n",
    "              presort='auto', random_state=1, subsample=1.0, verbose=0,\n",
    "              warm_start=False)"
   ]
  },
  {
   "cell_type": "code",
   "execution_count": 452,
   "metadata": {},
   "outputs": [
    {
     "name": "stdout",
     "output_type": "stream",
     "text": [
      "Brier score for training set is: 0.1067\n",
      "Brier score for testing set is: 0.1235\n",
      "\n"
     ]
    }
   ],
   "source": [
    "train_predict(gb_clf, X_train, y_train, X_test, y_test)"
   ]
  },
  {
   "cell_type": "code",
   "execution_count": 459,
   "metadata": {},
   "outputs": [
    {
     "data": {
      "text/plain": [
       "<matplotlib.axes._subplots.AxesSubplot at 0x1a4a5678d0>"
      ]
     },
     "execution_count": 459,
     "metadata": {},
     "output_type": "execute_result"
    },
    {
     "data": {
      "image/png": "[encoded data removed]",
      "text/plain": [
       "<matplotlib.figure.Figure at 0x1a31949a20>"
      ]
     },
     "metadata": {},
     "output_type": "display_data"
    }
   ],
   "source": [
    "feature_importances = pd.Series(gb_clf.feature_importances_, index=X_train.columns) \n",
    "feature_importances.nlargest(15).sort_values(ascending = True).plot(kind='barh')"
   ]
  }
 ],
 "metadata": {
  "kernelspec": {
   "display_name": "Python 3",
   "language": "python",
   "name": "python3"
  },
  "language_info": {
   "codemirror_mode": {
    "name": "ipython",
    "version": 3
   },
   "file_extension": ".py",
   "mimetype": "text/x-python",
   "name": "python",
   "nbconvert_exporter": "python",
   "pygments_lexer": "ipython3",
   "version": "3.7.4"
  }
 },
 "nbformat": 4,
 "nbformat_minor": 2
}
